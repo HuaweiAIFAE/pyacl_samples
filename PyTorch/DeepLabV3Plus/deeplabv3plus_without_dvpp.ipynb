{
 "cells": [
  {
   "cell_type": "code",
   "execution_count": 1,
   "id": "997bee99-98c1-4da0-a849-88c0a02d8846",
   "metadata": {},
   "outputs": [],
   "source": [
    "%matplotlib inline\n",
    "import numpy as np\n",
    "import os, sys, cv2\n",
    "from os import path\n",
    "from src.model import preprocess\n",
    "from src.postprocessing import draw_label\n",
    "# define acllite library path\n",
    "sys.path.append('../../Common/acllite')\n",
    "# modules of acllite library\n",
    "from constants import IMG_EXT\n",
    "from acllite_model import AclLiteModel\n",
    "from acllite_resource import AclLiteResource"
   ]
  },
  {
   "cell_type": "code",
   "execution_count": 2,
   "id": "9c5e5976-a5f5-4ab4-96f3-6e22f169249a",
   "metadata": {},
   "outputs": [],
   "source": [
    "%load_ext autoreload\n",
    "%autoreload 2"
   ]
  },
  {
   "cell_type": "code",
   "execution_count": 3,
   "id": "362db5ac-a0eb-45d8-a3db-f00973ee8c00",
   "metadata": {},
   "outputs": [],
   "source": [
    "# define device id & model path\n",
    "device_id = 0\n",
    "model_path = './model/deeplabv3plus513_310.om'\n",
    "\n",
    "# define image path\n",
    "img_path = \"../../Common/data/car.jpg\""
   ]
  },
  {
   "cell_type": "code",
   "execution_count": 4,
   "id": "60e86725-1565-42ca-82ac-748d2b87ba2b",
   "metadata": {},
   "outputs": [
    {
     "name": "stdout",
     "output_type": "stream",
     "text": [
      "init resource stage:\n",
      "Init resource success\n",
      "[Device] NPU Device id: 0\n",
      "Init model resource start...\n",
      "[AclLiteModel] create model output dataset:\n",
      "malloc output 0, size 11053098\n",
      "Create model output dataset success\n",
      "Init model resource success\n"
     ]
    }
   ],
   "source": [
    "# initialize acllite library\n",
    "acl_resource = AclLiteResource(device_id)\n",
    "acl_resource.init()\n",
    "print('[Device] NPU Device id:',acl_resource.device_id)\n",
    "# load *.om model\n",
    "model = AclLiteModel(model_path)"
   ]
  },
  {
   "cell_type": "code",
   "execution_count": 5,
   "id": "0bbe63da",
   "metadata": {},
   "outputs": [],
   "source": [
    "# read image\n",
    "img_bgr = cv2.imread(img_path)"
   ]
  },
  {
   "cell_type": "code",
   "execution_count": 6,
   "id": "058f4617-bfd6-455f-8b2b-5bc1f77a6f10",
   "metadata": {},
   "outputs": [
    {
     "name": "stdout",
     "output_type": "stream",
     "text": [
      "model input size 1\n",
      "input  0\n",
      "model input dims ({'name': 'actual_input_1', 'dimCount': 4, 'dims': [1, 3, 513, 513]}, 0)\n",
      "model input datatype 0\n",
      "===============================================================================================\n",
      "model output size 1\n",
      "output  0\n",
      "model output dims ({'name': 'PartitionedCall_Resize_429_ResizeBilinearV2_28:0:output1', 'dimCount': 4, 'dims': [1, 21, 513, 513]}, 0)\n",
      "model output datatype 1\n",
      "===============================================================================================\n",
      "[Model] class Model init resource stage success\n"
     ]
    }
   ],
   "source": [
    "# 1) pre-processing stage\n",
    "input_data = preprocess(img_bgr, model._model_desc)"
   ]
  },
  {
   "cell_type": "code",
   "execution_count": 7,
   "id": "a6ef8fd1-bccf-456f-8fad-d6a1af2f107b",
   "metadata": {},
   "outputs": [],
   "source": [
    "%timeit -n 10 -r 3\n",
    "result_list = model.execute([input_data,]) # 2) model execution(forward) stage"
   ]
  },
  {
   "cell_type": "code",
   "execution_count": 8,
   "id": "c2582abf-491d-4357-9151-ebdcc147b76c",
   "metadata": {},
   "outputs": [],
   "source": [
    "fig = draw_label(img_bgr, result_list[0].squeeze())"
   ]
  },
  {
   "cell_type": "code",
   "execution_count": null,
   "id": "47122b49",
   "metadata": {},
   "outputs": [],
   "source": [
    "fig"
   ]
  },
  {
   "cell_type": "code",
   "execution_count": null,
   "id": "5aa28539-c5b9-4c75-b4a3-519bd67dc589",
   "metadata": {},
   "outputs": [],
   "source": []
  }
 ],
 "metadata": {
  "kernelspec": {
   "display_name": "Python 3 (ipykernel)",
   "language": "python",
   "name": "python3"
  },
  "language_info": {
   "codemirror_mode": {
    "name": "ipython",
    "version": 3
   },
   "file_extension": ".py",
   "mimetype": "text/x-python",
   "name": "python",
   "nbconvert_exporter": "python",
   "pygments_lexer": "ipython3",
   "version": "3.7.5"
  },
  "vscode": {
   "interpreter": {
    "hash": "dc352aabec68d45f650f125dd5aecf9d57eeb57f71b48f2b850dd3d969660d23"
   }
  }
 },
 "nbformat": 4,
 "nbformat_minor": 5
}

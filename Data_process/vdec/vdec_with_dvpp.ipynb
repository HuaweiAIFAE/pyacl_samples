{
 "cells": [
  {
   "cell_type": "code",
   "execution_count": 1,
   "metadata": {},
   "outputs": [],
   "source": [
    "import acl\n",
    "import time\n",
    "import sys\n",
    "# define acllite library path\n",
    "sys.path.append('../../Common/acllite')\n",
    "# modules of acllite library\n",
    "from acllite_resource import AclLiteResource\n",
    "from videocapture import VideoCapture"
   ]
  },
  {
   "cell_type": "code",
   "execution_count": 2,
   "metadata": {},
   "outputs": [],
   "source": [
    "# define video path\n",
    "video_path = \"video.h264\""
   ]
  },
  {
   "cell_type": "code",
   "execution_count": 3,
   "metadata": {},
   "outputs": [
    {
     "name": "stdout",
     "output_type": "stream",
     "text": [
      "init resource stage:\n",
      "Init resource success\n"
     ]
    }
   ],
   "source": [
    "# initialize acllite library\n",
    "acl_resource = AclLiteResource()\n",
    "acl_resource.init()"
   ]
  },
  {
   "cell_type": "code",
   "execution_count": 4,
   "metadata": {},
   "outputs": [
    {
     "name": "stdout",
     "output_type": "stream",
     "text": [
      "Get video.h264 infomation: width 1280, height 720, profile 100, codec h264, entype 3\n",
      "Ready to decode video.h264...\n"
     ]
    }
   ],
   "source": [
    "# load video \n",
    "cap = VideoCapture(video_path)"
   ]
  },
  {
   "cell_type": "code",
   "execution_count": 5,
   "metadata": {},
   "outputs": [
    {
     "name": "stdout",
     "output_type": "stream",
     "text": [
      "Start decode video.h264 frames\n"
     ]
    },
    {
     "name": "stderr",
     "output_type": "stream",
     "text": [
      "../../Common/acllite/videocapture.py:249: MethodDeprecationWarning: Packet.to_bytes is deprecated.\n",
      "  in_frame_np = np.frombuffer(packet.to_bytes(), np.byte)\n"
     ]
    },
    {
     "name": "stdout",
     "output_type": "stream",
     "text": [
      "Pyav decode finish\n",
      "No decode frame in queue anymore\n",
      "Total Process Time:  0.7815866470336914\n",
      "FPS:  0.0016148484442844865\n"
     ]
    }
   ],
   "source": [
    "t1 = time.time()\n",
    "decoded_images = [] \n",
    "while True:\n",
    "    # read frame\n",
    "    ret, image = cap.read()\n",
    "    if (ret != 0) or (image is None):\n",
    "        break\n",
    "    decoded_images.append(image)\n",
    "    \n",
    "t2 = time.time()\n",
    "print(\"Total Process Time: \", t2-t1)\n",
    "print(\"FPS: \",(t2-t1)/len(decoded_images))"
   ]
  },
  {
   "cell_type": "code",
   "execution_count": 6,
   "metadata": {},
   "outputs": [
    {
     "data": {
      "text/plain": [
       "484"
      ]
     },
     "execution_count": 6,
     "metadata": {},
     "output_type": "execute_result"
    }
   ],
   "source": [
    "# number of decoded images \n",
    "len(decoded_images)"
   ]
  },
  {
   "cell_type": "code",
   "execution_count": 7,
   "metadata": {},
   "outputs": [
    {
     "data": {
      "text/plain": [
       "True"
      ]
     },
     "execution_count": 7,
     "metadata": {},
     "output_type": "execute_result"
    }
   ],
   "source": [
    "# check if all frames decode process is finished\n",
    "cap.is_finished()"
   ]
  }
 ],
 "metadata": {
  "kernelspec": {
   "display_name": "Python 3 (ipykernel)",
   "language": "python",
   "name": "python3"
  },
  "language_info": {
   "codemirror_mode": {
    "name": "ipython",
    "version": 3
   },
   "file_extension": ".py",
   "mimetype": "text/x-python",
   "name": "python",
   "nbconvert_exporter": "python",
   "pygments_lexer": "ipython3",
   "version": "3.9.2"
  }
 },
 "nbformat": 4,
 "nbformat_minor": 4
}
